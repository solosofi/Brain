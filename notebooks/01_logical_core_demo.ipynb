{
 "cells": [
  {
   "cell_type": "markdown",
   "metadata": {},
   "source": [
    "# GODBRAIN Logical Core Demo",
    "",
    "This notebook demonstrates the logical reasoning capabilities of the GODBRAIN system by focusing on the Logical Core component. The Logical Core is responsible for symbolic reasoning using Prolog, allowing the system to make inferences and deductions from a given set of facts and rules.",
    "",
    "## What is the Logical Core?",
    "",
    "The Logical Core is implemented as a `ReasoningEngine` class that uses Prolog for logical inference. It allows you to:",
    "",
    "1. Add facts to the knowledge base",
    "2. Add rules to the knowledge base",
    "3. Execute queries against the knowledge base",
    "4. Explain the reasoning process behind answers"
   ]
  },
  {
   "cell_type": "markdown",
   "metadata": {},
   "source": [
    "## Setup and Initialization",
    "",
    "First, let's import the necessary modules and initialize the ReasoningEngine."
   ]
  },
  {
   "cell_type": "code",
   "execution_count": null,
   "metadata": {},
   "outputs": [],
   "source": [
    "import sys\n",
    "import os\n",
    "",
    "# Add the parent directory to the path so we can import the GODBRAIN modules\n",
    "sys.path.append(os.path.abspath('../'))\n",
    "",
    "# Import the ReasoningEngine from the logical_core module\n",
    "from src.logical_core.reasoning_engine import ReasoningEngine\n",
    "",
    "# Initialize the ReasoningEngine\n",
    "engine = ReasoningEngine()\n",
    "",
    "print(\"ReasoningEngine initialized successfully!\")\n"
   ]
  },
  {
   "cell_type": "markdown",
   "metadata": {},
   "source": [
    "## Adding Facts and Rules",
    "",
    "Let's add some facts and rules to the knowledge base. We'll use a classic example from logic: the Socrates syllogism."
   ]
  },
  {
   "cell_type": "code",
   "execution_count": null,
   "metadata": {},
   "outputs": [],
   "source": [
    "# Add facts about humans\n",
    "engine.add_fact(\"human(socrates).\")\n",
    "engine.add_fact(\"human(plato).\")\n",
    "engine.add_fact(\"human(aristotle).\")\n",
    "",
    "# Add facts about teachers and students\n",
    "engine.add_fact(\"teacher(socrates, plato).\")\n",
    "engine.add_fact(\"teacher(plato, aristotle).\")\n",
    "",
    "# Add rules for inference\n",
    "engine.add_rule(\"mortal(X) :- human(X).\")  # All humans are mortal\n",
    "engine.add_rule(\"student(X, Y) :- teacher(Y, X).\")  # If Y teaches X, then X is a student of Y\n",
    "engine.add_rule(\"philosopher(X) :- human(X), teacher(X, _).\")  # A philosopher is a human who teaches someone\n",
    "",
    "print(\"Facts and rules added to the knowledge base.\")\n",
    "",
    "# Display the knowledge base\n",
    "print(\"\nKnowledge Base:\")\n",
    "for item in engine.knowledge_base:\n",
    "    print(f\"  {item}\")\n"
   ]
  },
  {
   "cell_type": "markdown",
   "metadata": {},
   "source": [
    "## Simple Queries",
    "",
    "Now let's execute some simple queries against the knowledge base."
   ]
  },
  {
   "cell_type": "code",
   "execution_count": null,
   "metadata": {},
   "outputs": [],
   "source": [
    "# Query 1: Is Socrates mortal?\n",
    "query1 = \"mortal(socrates)\"\n",
    "results1 = engine.query(query1)\n",
    "",
    "print(f\"Query: {query1}\")\n",
    "print(f\"Results: {results1}\")\n",
    "print(f\"Is Socrates mortal? {'Yes' if results1 else 'No'}\n\")\n",
    "",
    "# Query 2: Is Plato a student of Socrates?\n",
    "query2 = \"student(plato, socrates)\"\n",
    "results2 = engine.query(query2)\n",
    "",
    "print(f\"Query: {query2}\")\n",
    "print(f\"Results: {results2}\")\n",
    "print(f\"Is Plato a student of Socrates? {'Yes' if results2 else 'No'}\n\")\n",
    "",
    "# Query 3: Is Aristotle a philosopher?\n",
    "query3 = \"philosopher(aristotle)\"\n",
    "results3 = engine.query(query3)\n",
    "",
    "print(f\"Query: {query3}\")\n",
    "print(f\"Results: {results3}\")\n",
    "print(f\"Is Aristotle a philosopher? {'Yes' if results3 else 'No'}\")\n"
   ]
  },
  {
   "cell_type": "markdown",
   "metadata": {},
   "source": [
    "## Variable Queries",
    "",
    "We can also execute queries with variables to find all solutions."
   ]
  },
  {
   "cell_type": "code",
   "execution_count": null,
   "metadata": {},
   "outputs": [],
   "source": [
    "# Query 4: Who is mortal?\n",
    "query4 = \"mortal(X)\"\n",
    "results4 = engine.query(query4)\n",
    "",
    "print(f\"Query: {query4}\")\n",
    "print(\"Who is mortal?\")\n",
    "for result in results4:\n",
    "    print(f\"  {result['X']}\")\n",
    "",
    "# Query 5: Who is a philosopher?\n",
    "query5 = \"philosopher(X)\"\n",
    "results5 = engine.query(query5)\n",
    "",
    "print(f\"\nQuery: {query5}\")\n",
    "print(\"Who is a philosopher?\")\n",
    "for result in results5:\n",
    "    print(f\"  {result['X']}\")\n",
    "",
    "# Query 6: Who teaches whom?\n",
    "query6 = \"teacher(X, Y)\"\n",
    "results6 = engine.query(query6)\n",
    "",
    "print(f\"\nQuery: {query6}\")\n",
    "print(\"Who teaches whom?\")\n",
    "for result in results6:\n",
    "    print(f\"  {result['X']} teaches {result['Y']}\")\n"
   ]
  },
  {
   "cell_type": "markdown",
   "metadata": {},
   "source": [
    "## Complex Queries and Explanations",
    "",
    "The ReasoningEngine can also provide explanations for its answers. Let's try some more complex queries and get explanations."
   ]
  },
  {
   "cell_type": "code",
   "execution_count": null,
   "metadata": {},
   "outputs": [],
   "source": [
    "# Function to execute a query and get an explanation\n",
    "def query_with_explanation(query_str):\n",
    "    print(f\"Query: {query_str}\")\n",
    "    \n",
    "    # Execute the query\n",
    "    results = engine.query(query_str)\n",
    "    \n",
    "    # Generate an explanation\n",
    "    explanation = engine.explain_query(query_str)\n",
    "    \n",
    "    print(f\"Results: {results}\")\n",
    "    print(f\"Answer: {'Yes' if results else 'No'}\")\n",
    "    print(\"Explanation:\")\n",
    "    print(explanation)\n",
    "    print()\n",
    "    \n",
    "    return results, explanation\n",
    "",
    "# Query 7: Is Socrates a philosopher?\n",
    "query_with_explanation(\"philosopher(socrates)\")\n",
    "",
    "# Query 8: Is Aristotle a student of Plato?\n",
    "query_with_explanation(\"student(aristotle, plato)\")\n",
    "",
    "# Query 9: Is there a chain of teaching from Socrates to Aristotle?\n",
    "# Add a rule for teaching chains\n",
    "engine.add_rule(\"teaching_chain(X, Z) :- teacher(X, Z).\")\n",
    "engine.add_rule(\"teaching_chain(X, Z) :- teacher(X, Y), teaching_chain(Y, Z).\")\n",
    "",
    "query_with_explanation(\"teaching_chain(socrates, aristotle)\")\n"
   ]
  },
  {
   "cell_type": "markdown",
   "metadata": {},
   "source": [
    "## Adding More Knowledge",
    "",
    "Let's add more knowledge to the system and see how it affects the reasoning."
   ]
  },
  {
   "cell_type": "code",
   "execution_count": null,
   "metadata": {},
   "outputs": [],
   "source": [
    "# Add more facts about ancient Greek philosophers\n",
    "engine.add_fact(\"human(pythagoras).\")\n",
    "engine.add_fact(\"human(heraclitus).\")\n",
    "engine.add_fact(\"human(parmenides).\")\n",
    "engine.add_fact(\"human(zeno).\")\n",
    "",
    "engine.add_fact(\"teacher(pythagoras, parmenides).\")\n",
    "engine.add_fact(\"teacher(parmenides, zeno).\")\n",
    "",
    "# Add facts about schools of thought\n",
    "engine.add_fact(\"school(academy).\")\n",
    "engine.add_fact(\"school(lyceum).\")\n",
    "engine.add_fact(\"school(pythagorean).\")\n",
    "",
    "engine.add_fact(\"founded(plato, academy).\")\n",
    "engine.add_fact(\"founded(aristotle, lyceum).\")\n",
    "engine.add_fact(\"founded(pythagoras, pythagorean).\")\n",
    "",
    "# Add rules about school founders and members\n",
    "engine.add_rule(\"school_founder(X, Y) :- founded(X, Y).\")\n",
    "engine.add_rule(\"school_member(X, Y) :- student(X, Z), school_founder(Z, Y).\")\n",
    "engine.add_rule(\"school_member(X, Y) :- student(X, Z), school_member(Z, Y).\")\n",
    "",
    "print(\"Additional knowledge added to the system.\")\n"
   ]
  },
  {
   "cell_type": "markdown",
   "metadata": {},
   "source": [
    "## Querying the Extended Knowledge Base",
    "",
    "Now let's query the extended knowledge base to see what new inferences we can make."
   ]
  },
  {
   "cell_type": "code",
   "execution_count": null,
   "metadata": {},
   "outputs": [],
   "source": [
    "# Query 10: Who are all the philosophers now?\n",
    "query10 = \"philosopher(X)\"\n",
    "results10 = engine.query(query10)\n",
    "",
    "print(f\"Query: {query10}\")\n",
    "print(\"Who is a philosopher?\")\n",
    "for result in results10:\n",
    "    print(f\"  {result['X']}\")\n",
    "",
    "# Query 11: Which schools did Plato found?\n",
    "query11 = \"founded(plato, X)\"\n",
    "results11 = engine.query(query11)\n",
    "",
    "print(f\"\nQuery: {query11}\")\n",
    "print(\"Which schools did Plato found?\")\n",
    "for result in results11:\n",
    "    print(f\"  {result['X']}\")\n",
    "",
    "# Query 12: Is Zeno a member of the Pythagorean school?\n",
    "query_with_explanation(\"school_member(zeno, pythagorean)\")\n"
   ]
  },
  {
   "cell_type": "markdown",
   "metadata": {},
   "source": [
    "## Interactive Query Interface",
    "",
    "Let's create a simple interactive interface to query the reasoning engine."
   ]
  },
  {
   "cell_type": "code",
   "execution_count": null,
   "metadata": {},
   "outputs": [],
   "source": [
    "from IPython.display import display, clear_output\n",
    "import ipywidgets as widgets\n",
    "",
    "# Create the input widgets\n",
    "query_input = widgets.Text(\n",
    "    value='',\n",
    "    placeholder='Enter a Prolog query (e.g., mortal(socrates))',\n",
    "    description='Query:',\n",
    "    layout=widgets.Layout(width='80%')\n",
    ")\n",
    "",
    "execute_button = widgets.Button(\n",
    "    description='Execute',\n",
    "    button_style='primary',\n",
    "    layout=widgets.Layout(width='19%')\n",
    ")\n",
    "",
    "output_area = widgets.Output(\n",
    "    layout=widgets.Layout(\n",
    "        border='1px solid #ddd',\n",
    "        padding='10px',\n",
    "        height='300px',\n",
    "        overflow_y='auto'\n",
    "    )\n",
    ")\n",
    "",
    "# Function to execute the query when the button is clicked\n",
    "def on_execute_button_clicked(b):\n",
    "    query = query_input.value.strip()\n",
    "    if not query:\n",
    "        return\n",
    "    \n",
    "    with output_area:\n",
    "        print(f\"Query: {query}\")\n",
    "        \n",
    "        # Execute the query\n",
    "        results = engine.query(query)\n",
    "        \n",
    "        # Generate an explanation\n",
    "        explanation = engine.explain_query(query)\n",
    "        \n",
    "        if not results:\n",
    "            print(\"Results: []\")\n",
    "            print(\"Answer: No\")\n",
    "        else:\n",
    "            print(f\"Results: {results}\")\n",
    "            print(\"Answer: Yes\")\n",
    "            \n",
    "            # If the query has variables, display the bindings\n",
    "            if any(result for result in results if result):\n",
    "                print(\"Variable bindings:\")\n",
    "                for i, result in enumerate(results):\n",
    "                    print(f\"  Solution {i+1}: {result}\")\n",
    "        \n",
    "        print(\"Explanation:\")\n",
    "        print(explanation)\n",
    "        print(\"\n" + "-\"*50 + \"\n\")\n",
    "",
    "# Connect the button to the function\n",
    "execute_button.on_click(on_execute_button_clicked)\n",
    "",
    "# Display the widgets\n",
    "display(widgets.HTML('<h3>Interactive Query Interface</h3>'))\n",
    "display(widgets.HBox([query_input, execute_button]))\n",
    "display(output_area)\n",
    "",
    "# Display some example queries\n",
    "display(widgets.HTML('''<h4>Example Queries:</h4>\n",
    "<ul>\n",
    "    <li>mortal(socrates)</li>\n",
    "    <li>philosopher(X)</li>\n",
    "    <li>student(aristotle, plato)</li>\n",
    "    <li>teaching_chain(socrates, aristotle)</li>\n",
    "    <li>school_member(zeno, pythagorean)</li>\n",
    "</ul>'''))\n"
   ]
  },
  {
   "cell_type": "markdown",
   "metadata": {},
   "source": [
    "## Conclusion",
    "",
    "In this notebook, we've demonstrated the logical reasoning capabilities of the GODBRAIN system by focusing on the Logical Core component. We've seen how to:",
    "",
    "1. Initialize the ReasoningEngine",
    "2. Add facts and rules to the knowledge base",
    "3. Execute simple and complex queries",
    "4. Get explanations for query results",
    "5. Use an interactive interface to query the system",
    "",
    "The Logical Core is a powerful component of the GODBRAIN system that enables symbolic reasoning and logical inference, allowing the system to make deductions and answer questions based on its knowledge base."
   ]
  }
 ],
 "metadata": {
  "kernelspec": {
   "display_name": "Python 3",
   "language": "python",
   "name": "python3"
  },
  "language_info": {
   "codemirror_mode": {
    "name": "ipython",
    "version": 3
   },
   "file_extension": ".py",
   "mimetype": "text/x-python",
   "name": "python",
   "nbconvert_exporter": "python",
   "pygments_lexer": "ipython3",
   "version": "3.8.10"
  }
 },
 "nbformat": 4,
 "nbformat_minor": 2
}
